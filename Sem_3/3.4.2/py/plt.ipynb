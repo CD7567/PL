{
 "cells": [
  {
   "cell_type": "code",
   "execution_count": 6,
   "outputs": [
    {
     "name": "stdout",
     "output_type": "stream",
     "text": [
      "slope: 0.036290028818662536 +/- 0.0010895316533301076\n",
      "intercept: -0.6685190442221344 +/- 0.03255088301801676\n"
     ]
    },
    {
     "data": {
      "text/plain": "<Figure size 432x288 with 1 Axes>",
      "image/png": "[encoded data removed]"
     },
     "metadata": {
      "needs_background": "light"
     },
     "output_type": "display_data"
    }
   ],
   "source": [
    "\n",
    "\n",
    "\n",
    "import numpy as np\n",
    "import matplotlib.pyplot as plt\n",
    "from importlib import reload\n",
    "from scipy.stats import linregress\n",
    "plt = reload(plt)\n",
    "\n",
    "plt.rcParams['text.usetex'] = True\n",
    "plt.grid()\n",
    "plt.xlabel(r'$T,\\,^\\circ\\mathrm{C}$')\n",
    "plt.ylabel(r'$\\frac{1}{\\tau^2 - \\tau_0^2},\\, \\mu s^{-2}$')\n",
    "\n",
    "t = [14.69, 16.03, 18.04, 20.10, 22.02, 24.00, 26.02, 28.02, 30.00, 35.00, 40.00]\n",
    "t_err = [0.03, 0.03, 0.03, 0.03, 0.03, 0.03, 0.03, 0.03, 0.03, 0.03, 0.03]\n",
    "\n",
    "chi = [0.064, 0.067, 0.077, 0.098, 0.140, 0.214, 0.284, 0.330, 0.397, 0.598, 0.799]\n",
    "chi_err = [0.000653044127203853, 0.000720294455644978,\n",
    "           0.000931038069919597,\n",
    "           0.00147328015740595,\n",
    "           0.00289082737742267,\n",
    "           0.00664091317784539,\n",
    "           0.0115737688852923,\n",
    "           0.0155053506547998,\n",
    "           0.0223293020912069,\n",
    "           0.0502455125825626,\n",
    "           0.0893282357792752\n",
    "           ]\n",
    "\n",
    "lin_t = [22.02, 24.00, 26.02, 28.02, 30.00, 35.00, 40.00]\n",
    "lin_chi = [0.140, 0.214, 0.284, 0.330, 0.397, 0.598, 0.799]\n",
    "\n",
    "coef = np.polyfit(t, chi, 5)\n",
    "poly = np.poly1d(coef)\n",
    "\n",
    "lin_coef = np.polyfit(lin_t, lin_chi, 1)\n",
    "lin_poly = np.poly1d(lin_coef)\n",
    "\n",
    "p, V = np.polyfit(lin_t, lin_chi, 1, cov=True)\n",
    "print(\"slope: {} +/- {}\".format(p[0], np.sqrt(V[0][0])))\n",
    "print(\"intercept: {} +/- {}\".format(p[1], np.sqrt(V[1][1])))\n",
    "\n",
    "new_y = poly(t)\n",
    "lin_new_y = lin_poly(lin_t)\n",
    "\n",
    "plt.plot(t, new_y, color = 'blue')\n",
    "plt.plot(lin_t, lin_new_y, color = 'orange')\n",
    "plt.errorbar(t, chi, xerr = t_err, yerr = chi_err, fmt ='.', color ='black')\n",
    "\n",
    "#plt.plot(freq_1, volt_1, color = 'orange', marker = '+')\n",
    "#plt.plot(freq_2, volt_2, color = 'blue', marker = '+')\n",
    "#plt.axhline(y = 0.707, color = 'red')\n",
    "plt.legend([r'Rough curve fit', r'Linear fit'])\n",
    "#plt.errorbar(t, sigma, xerr = x_err, yerr = y_err, fmt ='.', color ='black')\n",
    "plt.savefig('PIC_3.png', dpi = 1200)\n",
    "plt.show()"
   ],
   "metadata": {
    "collapsed": false,
    "pycharm": {
     "name": "#%%\n"
    }
   }
  },
  {
   "cell_type": "code",
   "execution_count": 6,
   "outputs": [],
   "source": [],
   "metadata": {
    "collapsed": false,
    "pycharm": {
     "name": "#%%\n"
    }
   }
  }
 ],
 "metadata": {
  "kernelspec": {
   "display_name": "Python 3",
   "language": "python",
   "name": "python3"
  },
  "language_info": {
   "codemirror_mode": {
    "name": "ipython",
    "version": 2
   },
   "file_extension": ".py",
   "mimetype": "text/x-python",
   "name": "python",
   "nbconvert_exporter": "python",
   "pygments_lexer": "ipython2",
   "version": "2.7.6"
  }
 },
 "nbformat": 4,
 "nbformat_minor": 0
}