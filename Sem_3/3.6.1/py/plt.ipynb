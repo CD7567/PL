{
 "cells": [
  {
   "cell_type": "code",
   "execution_count": 4,
   "metadata": {
    "collapsed": false,
    "pycharm": {
     "name": "#%%\n"
    }
   },
   "outputs": [
    {
     "name": "stdout",
     "output_type": "stream",
     "text": [
      "slope: 1016.3817120480743 +/- 13.982559532361625\n",
      "intercept: -0.16982253585910412 +/- 0.17279256410374713\n"
     ]
    },
    {
     "data": {
      "image/png": "[encoded data removed]",
      "text/plain": [
       "<Figure size 432x288 with 1 Axes>"
      ]
     },
     "metadata": {
      "needs_background": "light"
     },
     "output_type": "display_data"
    },
    {
     "data": {
      "image/png": "[encoded data removed]",
      "text/plain": [
       "<Figure size 432x288 with 1 Axes>"
      ]
     },
     "metadata": {
      "needs_background": "light"
     },
     "output_type": "display_data"
    }
   ],
   "source": [
    "import numpy as np\n",
    "import matplotlib.pyplot as plt\n",
    "from importlib import reload\n",
    "from scipy.stats import linregress\n",
    "plt = reload(plt)\n",
    "\n",
    "plt.rcParams['text.usetex'] = True\n",
    "plt.grid()\n",
    "plt.xlabel(r'$1/\\tau,\\, \\mu s^{-1}$')\n",
    "plt.ylabel(r'$\\nu,\\,kHz$')\n",
    "\n",
    "t = [40, 60, 80, 100, 120, 140, 160, 180, 200]\n",
    "inv_t = []\n",
    "\n",
    "for it in t:\n",
    "    inv_t.append(1/it)\n",
    "\n",
    "nu = [25, 17, 13, 10, 8, 7, 6, 5.5, 5]\n",
    "nu_err = [0.5, 0.5, 0.5, 0.5, 0.5, 0.5, 0.5, 0.5, 0.5]\n",
    "\n",
    "#lin_t = [22.02, 24.00, 26.02, 28.02, 30.00, 35.00, 40.00]\n",
    "#lin_chi = [0.140, 0.214, 0.284, 0.330, 0.397, 0.598, 0.799]\n",
    "\n",
    "#coef = np.polyfit(t, chi, 5)\n",
    "#poly = np.poly1d(coef)\n",
    "\n",
    "coef = np.polyfit(inv_t, nu, 1)\n",
    "poly = np.poly1d(coef)\n",
    "\n",
    "p, V = np.polyfit(inv_t, nu, 1, cov=True)\n",
    "print(\"slope: {} +/- {}\".format(p[0], np.sqrt(V[0][0])))\n",
    "print(\"intercept: {} +/- {}\".format(p[1], np.sqrt(V[1][1])))\n",
    "\n",
    "lin_nu = poly(inv_t)\n",
    "#lin_new_y = lin_poly(lin_t)\n",
    "\n",
    "plt.plot(inv_t, lin_nu, color = 'orange')\n",
    "plt.errorbar(inv_t, nu, yerr = nu_err, fmt ='.', color ='black')\n",
    "\n",
    "#plt.plot(freq_1, volt_1, color = 'orange', marker = '+')\n",
    "#plt.plot(freq_2, volt_2, color = 'blue', marker = '+')\n",
    "#plt.axhline(y = 0.707, color = 'red')\n",
    "plt.legend([r'Linear fit'])\n",
    "#plt.errorbar(t, sigma, xerr = x_err, yerr = y_err, fmt ='.', color ='black')\n",
    "plt.savefig('PIC_6.png', dpi = 1200)\n",
    "plt.show()\n",
    "\n",
    "\n",
    "plt.grid()\n",
    "plt.xlabel(r'$1/T = \\nu,\\,kHz$')\n",
    "plt.ylabel(r'$\\delta\\nu,\\,kHz$')\n",
    "\n",
    "nu0 = [0.5, 1, 2, 4, 5]\n",
    "nu0_err = []\n",
    "\n",
    "dnu = [0.5, 1, 2, 4, 5]\n",
    "dnu_err = []\n",
    "\n",
    "coef = np.polyfit(nu0, dnu, 1)\n",
    "poly = np.poly1d(coef)\n",
    "lin_nu = poly(nu0)\n",
    "\n",
    "plt.plot(nu0, lin_nu, color = 'orange')\n",
    "plt.errorbar(nu0, dnu, fmt ='.', color ='black')\n",
    "\n",
    "plt.legend([r'Linear fit'])\n",
    "\n",
    "plt.savefig('PIC_12.png', dpi = 1200)\n",
    "plt.show()"
   ]
  },
  {
   "cell_type": "code",
   "execution_count": 9,
   "metadata": {
    "collapsed": false,
    "pycharm": {
     "name": "#%%\n"
    }
   },
   "outputs": [],
   "source": []
  }
 ],
 "metadata": {
  "kernelspec": {
   "display_name": "Python 3.8.10 64-bit",
   "language": "python",
   "name": "python3"
  },
  "language_info": {
   "codemirror_mode": {
    "name": "ipython",
    "version": 3
   },
   "file_extension": ".py",
   "mimetype": "text/x-python",
   "name": "python",
   "nbconvert_exporter": "python",
   "pygments_lexer": "ipython3",
   "version": "3.8.10"
  },
  "vscode": {
   "interpreter": {
    "hash": "916dbcbb3f70747c44a77c7bcd40155683ae19c65e1c03b4aa3499c5328201f1"
   }
  }
 },
 "nbformat": 4,
 "nbformat_minor": 0
}
