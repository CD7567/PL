{
 "cells": [
  {
   "cell_type": "code",
   "execution_count": 28,
   "metadata": {
    "collapsed": false,
    "pycharm": {
     "name": "#%%\n"
    }
   },
   "outputs": [
    {
     "name": "stdout",
     "output_type": "stream",
     "text": [
      "slope: 1.402807992315661 +/- 0.0012453815116123374\n",
      "intercept: 0.39064931565642935 +/- 0.004379984580442021\n"
     ]
    },
    {
     "data": {
      "image/png": "[encoded data removed]",
      "text/plain": [
       "<Figure size 432x288 with 1 Axes>"
      ]
     },
     "metadata": {
      "needs_background": "light"
     },
     "output_type": "display_data"
    },
    {
     "name": "stdout",
     "output_type": "stream",
     "text": [
      "slope: -0.025065067193643476 +/- 0.0014042996769857066\n",
      "intercept: 4.503305018008021 +/- 0.2047100965612612\n"
     ]
    },
    {
     "data": {
      "image/png": "[encoded data removed]",
      "text/plain": [
       "<Figure size 432x288 with 1 Axes>"
      ]
     },
     "metadata": {
      "needs_background": "light"
     },
     "output_type": "display_data"
    }
   ],
   "source": [
    "from cmath import sqrt\n",
    "import numpy as np\n",
    "import matplotlib.pyplot as plt\n",
    "from importlib import reload\n",
    "from scipy.stats import linregress\n",
    "plt = reload(plt)\n",
    "\n",
    "plt.rcParams['text.usetex'] = True\n",
    "plt.grid()\n",
    "plt.xlabel(r'$\\nu^2 \\cdot 10^{-5},\\, Hz^2$')\n",
    "plt.ylabel(r'$1/\\xi^2 \\cdot 10^{10},\\, (Hz\\cdot mA/V)^2$')\n",
    "\n",
    "nu = [0.13, 0.34, 0.66, 1.08, 1.60, 2.23, 2.96, 3.79, 4.73, 5.78, 6.92]\n",
    "nu_err = [0.002, 0.007, 0.013, 0.022, 0.032, 0.045, 0.059, 0.076, 0.095, 0.116, 0.138]\n",
    "\n",
    "xi = [0.57, 0.87, 1.31, 1.90, 2.64, 3.52, 4.54, 5.73, 7.02, 8.50, 10.09]\n",
    "xi_err = [0.058, 0.070, 0.098, 0.138, 0.189, 0.250, 0.322, 0.409, 0.503, 0.613, 0.733]\n",
    "\n",
    "coef = np.polyfit(nu, xi, 1)\n",
    "poly = np.poly1d(coef)\n",
    "\n",
    "p, V = np.polyfit(nu, xi, 1, cov=True)\n",
    "print(\"slope: {} +/- {}\".format(p[0], np.sqrt(V[0][0])))\n",
    "print(\"intercept: {} +/- {}\".format(p[1], np.sqrt(V[1][1])))\n",
    "\n",
    "lin_xi = poly(nu)\n",
    "\n",
    "plt.plot(nu, lin_xi, color = 'orange')\n",
    "plt.errorbar(nu, xi, xerr = nu_err, yerr = xi_err, fmt ='.', color ='black')\n",
    "\n",
    "plt.legend([r'Linear fit'])\n",
    "plt.savefig('PIC_5.png', dpi = 1200)\n",
    "plt.show()\n",
    "\n",
    "\n",
    "\n",
    "\n",
    "plt.grid()\n",
    "plt.xlabel(r'$\\sqrt{\\nu},\\, Hz^{1/2}$')\n",
    "plt.ylabel(r'$\\Delta \\psi$')\n",
    "\n",
    "nu = [2500, 5000, 7500, 10000, 12500, 15000, 17500, 20000, 22500, 25000, 27500]\n",
    "nu_err = [1000, 1000, 1000, 1000, 1000, 1000, 1000, 1000, 1000, 1000, 1000]\n",
    "\n",
    "r_nu = []\n",
    "r_nu_err = []\n",
    "\n",
    "for it in nu:\n",
    "    r_nu.append((sqrt(it)).real)\n",
    "\n",
    "for it, err in enumerate(nu_err):  \n",
    "    r_nu_err.append((err / (2 * r_nu[it])).real)\n",
    "\n",
    "\n",
    "psi = [0.32, 0.63, 0.99, 1.24, 1.40, 1.41, 1.26, 0.90, 0.73, 0.57, 0.34]\n",
    "psi_err = [0.01, 0.01, 0.01, 0.01, 0.01, 0.01, 0.01, 0.01, 0.01, 0.01, 0.01]\n",
    "\n",
    "lin_nu = r_nu[5 :]\n",
    "lin_nu_err = r_nu_err[5 :]\n",
    "\n",
    "lin_psi = psi[5 :]\n",
    "lin_psi_err = psi_err[5 :]\n",
    "\n",
    "\n",
    "coef = np.polyfit(lin_nu, lin_psi, 1)\n",
    "poly = np.poly1d(coef)\n",
    "\n",
    "p, V = np.polyfit(lin_nu, lin_psi, 1, cov=True)\n",
    "print(\"slope: {} +/- {}\".format(p[0], np.sqrt(V[0][0])))\n",
    "print(\"intercept: {} +/- {}\".format(p[1], np.sqrt(V[1][1])))\n",
    "\n",
    "lin_psi_gr = poly(lin_nu)\n",
    "\n",
    "plt.plot(lin_nu, lin_psi_gr, color = 'orange')\n",
    "plt.errorbar(r_nu, psi, xerr = r_nu_err, yerr = psi_err, fmt ='.', color ='black')\n",
    "\n",
    "plt.legend([r'Linear fit'])\n",
    "plt.savefig('PIC_6.png', dpi = 1200)\n",
    "plt.show()\n"
   ]
  },
  {
   "cell_type": "code",
   "execution_count": 9,
   "metadata": {
    "collapsed": false,
    "pycharm": {
     "name": "#%%\n"
    }
   },
   "outputs": [],
   "source": []
  }
 ],
 "metadata": {
  "kernelspec": {
   "display_name": "Python 3.8.10 64-bit",
   "language": "python",
   "name": "python3"
  },
  "language_info": {
   "codemirror_mode": {
    "name": "ipython",
    "version": 3
   },
   "file_extension": ".py",
   "mimetype": "text/x-python",
   "name": "python",
   "nbconvert_exporter": "python",
   "pygments_lexer": "ipython3",
   "version": "3.8.10"
  },
  "vscode": {
   "interpreter": {
    "hash": "916dbcbb3f70747c44a77c7bcd40155683ae19c65e1c03b4aa3499c5328201f1"
   }
  }
 },
 "nbformat": 4,
 "nbformat_minor": 0
}
