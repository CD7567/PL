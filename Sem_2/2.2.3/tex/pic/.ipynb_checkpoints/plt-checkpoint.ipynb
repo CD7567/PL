{
 "cells": [
  {
   "cell_type": "code",
   "execution_count": 12,
   "metadata": {
    "collapsed": true,
    "pycharm": {
     "name": "#%%\n"
    }
   },
   "outputs": [
    {
     "name": "stdout",
     "output_type": "stream",
     "text": [
      "slope: 0.003001100907521236 +/- 2.6208736249908828e-05\n",
      "intercept: 9.958350751708688 +/- 0.0023521058419387394\n",
      "slope: 0.003176459267767096 +/- 0.00011737874598697856\n",
      "intercept: 10.26949269912412 +/- 0.010639016784644047\n",
      "slope: 0.0027956914281915953 +/- 2.860275719246963e-05\n",
      "intercept: 10.64402451749216 +/- 0.002664188478835228\n",
      "slope: 0.002807381108157313 +/- 2.5552310058475333e-05\n",
      "intercept: 11.002708430996767 +/- 0.002429064379733081\n",
      "slope: 0.0026930238208059177 +/- 1.9494531490620463e-05\n",
      "intercept: 11.376805479197623 +/- 0.0019332456616880152\n"
     ]
    },
    {
     "data": {
      "image/png": "[encoded data removed]",
      "text/plain": [
       "<Figure size 432x288 with 1 Axes>"
      ]
     },
     "metadata": {
      "needs_background": "light"
     },
     "output_type": "display_data"
    },
    {
     "name": "stdout",
     "output_type": "stream",
     "text": [
      "slope: 0.03677993047312217 +/- 0.00016598494426818674\n",
      "intercept: 9.168168801933172 +/- 0.0070671274658616915\n"
     ]
    },
    {
     "data": {
      "image/png": "[encoded data removed]",
      "text/plain": [
       "<Figure size 432x288 with 1 Axes>"
      ]
     },
     "metadata": {
      "needs_background": "light"
     },
     "output_type": "display_data"
    },
    {
     "name": "stdout",
     "output_type": "stream",
     "text": [
      "slope: 1.425382245707967 +/- 0.26784117225194765\n",
      "intercept: -11.72629299033328 +/- 1.539113755028625\n"
     ]
    }
   ],
   "source": [
    "import numpy as np\n",
    "import matplotlib.pyplot as plt\n",
    "from importlib import reload\n",
    "from scipy.stats import linregress\n",
    "plt = reload(plt)\n",
    "\n",
    "plt.rcParams['text.usetex'] = True\n",
    "plt.grid()\n",
    "\n",
    "temperature = [21.4, 30.1, 40.0, 50.0, 60.0]\n",
    "temperature_err = [0.1, 0.1, 0.1, 0.1, 0.1]\n",
    "\n",
    "resistance = [9.958, 10.270, 10.644, 11.003, 11.377]\n",
    "resistance_err = [0.005, 0.005, 0.005, 0.005, 0.005]\n",
    "\n",
    "# PIC_-1\n",
    "\n",
    "r1 = [9.96, 9.97, 10.05, 10.13, 10.34, 10.46]\n",
    "r1_err = [0.01, 0.01, 0.01, 0.01, 0.01, 0.01]\n",
    "\n",
    "q1 = [1.16, 4.35, 31.05, 55.43, 126.00, 168.50]\n",
    "q1_err = [0.01, 0.01, 0.03, 0.06, 0.13, 0.17]\n",
    "\n",
    "r2 = [10.28, 10.29, 10.37, 10.44, 10.65, 10.83]\n",
    "r2_err = [0.01, 0.01, 0.01, 0.01, 0.01, 0.01]\n",
    "\n",
    "q2 = [1.19, 4.47, 31.79, 56.60, 127.80, 169.48]\n",
    "q2_err = [0.01, 0.01, 0.03, 0.06, 0.13, 0.17]\n",
    "\n",
    "r3 = [10.65, 10.65, 10.74, 10.81, 11.01, 11.13]\n",
    "r3_err = [0.01, 0.01, 0.01, 0.01, 0.01, 0.01]\n",
    "\n",
    "q3 = [1.75, 4.62, 32.75, 58.20, 131.02, 174.37]\n",
    "q3_err = [0.01, 0.01, 0.04, 0.06, 0.13, 0.18]\n",
    "\n",
    "r4 = [11.00, 11.02, 11.10, 11.17, 11.38, 11.50]\n",
    "r4_err = [0.01, 0.01, 0.01, 0.01, 0.01, 0.01]\n",
    "\n",
    "q4 = [1.27, 4.77, 33.68, 59.70, 133.79, 177.76]\n",
    "q4_err = [0.01, 0.01, 0.03, 0.06, 0.12, 0.16]\n",
    "\n",
    "r5 = [11.38, 11.39, 11.47, 11.54, 11.75, 11.88]\n",
    "r5_err = [0.01, 0.01, 0.01, 0.01, 0.01, 0.01]\n",
    "\n",
    "q5 = [1.31, 4.92, 34.60, 61.21, 136.57, 188.11]\n",
    "q5_err = [0.01, 0.01, 0.03, 0.05, 0.12, 0.16]\n",
    "\n",
    "p1, V1 = np.polyfit(q1, r1, 1, cov=True)\n",
    "p2, V2 = np.polyfit(q2, r2, 1, cov=True)\n",
    "p3, V3 = np.polyfit(q3, r3, 1, cov=True)\n",
    "p4, V4 = np.polyfit(q4, r4, 1, cov=True)\n",
    "p5, V5 = np.polyfit(q5, r5, 1, cov=True)\n",
    "\n",
    "print(\"slope: {} +/- {}\".format(p1[0], np.sqrt(V1[0][0])))\n",
    "print(\"intercept: {} +/- {}\".format(p1[1], np.sqrt(V1[1][1])))\n",
    "print(\"slope: {} +/- {}\".format(p2[0], np.sqrt(V2[0][0])))\n",
    "print(\"intercept: {} +/- {}\".format(p2[1], np.sqrt(V2[1][1])))\n",
    "print(\"slope: {} +/- {}\".format(p3[0], np.sqrt(V3[0][0])))\n",
    "print(\"intercept: {} +/- {}\".format(p3[1], np.sqrt(V3[1][1])))\n",
    "print(\"slope: {} +/- {}\".format(p4[0], np.sqrt(V4[0][0])))\n",
    "print(\"intercept: {} +/- {}\".format(p4[1], np.sqrt(V4[1][1])))\n",
    "print(\"slope: {} +/- {}\".format(p5[0], np.sqrt(V5[0][0])))\n",
    "print(\"intercept: {} +/- {}\".format(p5[1], np.sqrt(V5[1][1])))\n",
    "\n",
    "# PIC_3\n",
    "\n",
    "plt.xlabel(r'$t,\\, ^\\circ$C')\n",
    "plt.ylabel(r'$R,\\,$Ohm')\n",
    "\n",
    "coef = np.polyfit(temperature, resistance, 1)\n",
    "poly1d_fn = np.poly1d(coef)  # to create a linear function with coefficients\n",
    "\n",
    "plt.plot(temperature, poly1d_fn(temperature), color ='orange')\n",
    "plt.errorbar(temperature, resistance, xerr = temperature_err, yerr = resistance_err, fmt ='.', color ='black')\n",
    "plt.savefig('PIC_3.png', dpi = 1200)\n",
    "plt.show()\n",
    "\n",
    "p, V = np.polyfit(temperature, resistance, 1, cov=True)\n",
    "print(\"slope: {} +/- {}\".format(p[0], np.sqrt(V[0][0])))\n",
    "print(\"intercept: {} +/- {}\".format(p[1], np.sqrt(V[1][1])))\n",
    "\n",
    "# PIC_4\n",
    "\n",
    "drdt = p[0]\n",
    "drdt_err = np.sqrt(V[0][0])\n",
    "\n",
    "ktemp = []\n",
    "ktemp_err = temperature_err\n",
    "\n",
    "for it in temperature:\n",
    "    ktemp.append(it + 273)\n",
    "\n",
    "drdq = [p1[0], p2[0], p3[0], p4[0], p5[0]]\n",
    "\n",
    "kappa = [0.027, 0.028, 0.028, 0.031, 0.032]\n",
    "kappa_err = [0.001, 0.002, 0.002, 0.001, 0.001]\n",
    "\n",
    "lnktemp = []\n",
    "lnktemp_err = []\n",
    "\n",
    "lnkappa = []\n",
    "lnkappa_err = []\n",
    "\n",
    "for i in range(0, 5):\n",
    "    lnktemp.append(np.log(ktemp[i]))\n",
    "    lnktemp_err.append(ktemp_err[i]/ktemp[i])\n",
    "\n",
    "for i in range(0, 5):\n",
    "    lnkappa.append(np.log(kappa[i]))\n",
    "    lnkappa_err.append(kappa_err[i]/kappa[i])\n",
    "\n",
    "plt.xlabel(r'$\\ln T,\\,$')\n",
    "plt.ylabel(r'$\\ln \\kappa,\\,$')\n",
    "\n",
    "coef = np.polyfit(lnktemp, lnkappa, 1)\n",
    "poly1d_fn = np.poly1d(coef)  # to create a linear function with coefficients\n",
    "\n",
    "plt.plot(lnktemp, poly1d_fn(lnktemp), color ='orange')\n",
    "plt.errorbar(lnktemp, lnkappa, xerr = lnktemp_err, yerr = lnkappa_err, fmt ='.', color ='black')\n",
    "plt.savefig('PIC_4.png', dpi = 1200)\n",
    "plt.show()\n",
    "\n",
    "p, V = np.polyfit(lnktemp, lnkappa, 1, cov=True)\n",
    "print(\"slope: {} +/- {}\".format(p[0], np.sqrt(V[0][0])))\n",
    "print(\"intercept: {} +/- {}\".format(p[1], np.sqrt(V[1][1])))"
   ]
  }
 ],
 "metadata": {
  "kernelspec": {
   "display_name": "Python 3 (ipykernel)",
   "language": "python",
   "name": "python3"
  },
  "language_info": {
   "codemirror_mode": {
    "name": "ipython",
    "version": 3
   },
   "file_extension": ".py",
   "mimetype": "text/x-python",
   "name": "python",
   "nbconvert_exporter": "python",
   "pygments_lexer": "ipython3",
   "version": "3.10.6"
  }
 },
 "nbformat": 4,
 "nbformat_minor": 1
}
